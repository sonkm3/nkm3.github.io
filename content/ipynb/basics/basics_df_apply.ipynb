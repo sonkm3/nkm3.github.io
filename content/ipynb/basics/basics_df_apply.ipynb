{
 "cells": [
  {
   "cell_type": "code",
   "execution_count": 1,
   "source": [
    "import io\n",
    "import pandas as pd\n",
    "\n",
    "csv = '''date,count,xyz\n",
    "2021-04-01, 1, 2\n",
    "2021-04-02, 2, 3\n",
    "2021-04-03, 3, 4\n",
    "2021-04-04, 4, 5\n",
    "2021-04-05, 5, 6\n",
    "2021-04-06, 6, 7\n",
    "2021-04-07, 7, 8\n",
    "2021-04-08, 8, 9\n",
    "2021-04-09, 9, 10\n",
    "2021-04-10, 10, 11\n",
    "\n",
    "'''\n",
    "\n",
    "data = pd.read_csv(io.StringIO(csv), parse_dates = ['date', ], low_memory=False)\n",
    "data"
   ],
   "outputs": [
    {
     "output_type": "execute_result",
     "data": {
      "text/plain": [
       "        date  count  xyz\n",
       "0 2021-04-01      1    2\n",
       "1 2021-04-02      2    3\n",
       "2 2021-04-03      3    4\n",
       "3 2021-04-04      4    5\n",
       "4 2021-04-05      5    6\n",
       "5 2021-04-06      6    7\n",
       "6 2021-04-07      7    8\n",
       "7 2021-04-08      8    9\n",
       "8 2021-04-09      9   10\n",
       "9 2021-04-10     10   11"
      ],
      "text/html": [
       "<div>\n",
       "<style scoped>\n",
       "    .dataframe tbody tr th:only-of-type {\n",
       "        vertical-align: middle;\n",
       "    }\n",
       "\n",
       "    .dataframe tbody tr th {\n",
       "        vertical-align: top;\n",
       "    }\n",
       "\n",
       "    .dataframe thead th {\n",
       "        text-align: right;\n",
       "    }\n",
       "</style>\n",
       "<table border=\"1\" class=\"dataframe\">\n",
       "  <thead>\n",
       "    <tr style=\"text-align: right;\">\n",
       "      <th></th>\n",
       "      <th>date</th>\n",
       "      <th>count</th>\n",
       "      <th>xyz</th>\n",
       "    </tr>\n",
       "  </thead>\n",
       "  <tbody>\n",
       "    <tr>\n",
       "      <th>0</th>\n",
       "      <td>2021-04-01</td>\n",
       "      <td>1</td>\n",
       "      <td>2</td>\n",
       "    </tr>\n",
       "    <tr>\n",
       "      <th>1</th>\n",
       "      <td>2021-04-02</td>\n",
       "      <td>2</td>\n",
       "      <td>3</td>\n",
       "    </tr>\n",
       "    <tr>\n",
       "      <th>2</th>\n",
       "      <td>2021-04-03</td>\n",
       "      <td>3</td>\n",
       "      <td>4</td>\n",
       "    </tr>\n",
       "    <tr>\n",
       "      <th>3</th>\n",
       "      <td>2021-04-04</td>\n",
       "      <td>4</td>\n",
       "      <td>5</td>\n",
       "    </tr>\n",
       "    <tr>\n",
       "      <th>4</th>\n",
       "      <td>2021-04-05</td>\n",
       "      <td>5</td>\n",
       "      <td>6</td>\n",
       "    </tr>\n",
       "    <tr>\n",
       "      <th>5</th>\n",
       "      <td>2021-04-06</td>\n",
       "      <td>6</td>\n",
       "      <td>7</td>\n",
       "    </tr>\n",
       "    <tr>\n",
       "      <th>6</th>\n",
       "      <td>2021-04-07</td>\n",
       "      <td>7</td>\n",
       "      <td>8</td>\n",
       "    </tr>\n",
       "    <tr>\n",
       "      <th>7</th>\n",
       "      <td>2021-04-08</td>\n",
       "      <td>8</td>\n",
       "      <td>9</td>\n",
       "    </tr>\n",
       "    <tr>\n",
       "      <th>8</th>\n",
       "      <td>2021-04-09</td>\n",
       "      <td>9</td>\n",
       "      <td>10</td>\n",
       "    </tr>\n",
       "    <tr>\n",
       "      <th>9</th>\n",
       "      <td>2021-04-10</td>\n",
       "      <td>10</td>\n",
       "      <td>11</td>\n",
       "    </tr>\n",
       "  </tbody>\n",
       "</table>\n",
       "</div>"
      ]
     },
     "metadata": {},
     "execution_count": 1
    }
   ],
   "metadata": {}
  },
  {
   "cell_type": "code",
   "execution_count": 11,
   "source": [
    "def calc_df(args):\n",
    "    return args[1] * args[2]\n",
    "\n",
    "res = data.apply(calc_df, axis='columns')\n",
    "res"
   ],
   "outputs": [
    {
     "output_type": "execute_result",
     "data": {
      "text/plain": [
       "0      2\n",
       "1      6\n",
       "2     12\n",
       "3     20\n",
       "4     30\n",
       "5     42\n",
       "6     56\n",
       "7     72\n",
       "8     90\n",
       "9    110\n",
       "dtype: int64"
      ]
     },
     "metadata": {},
     "execution_count": 11
    }
   ],
   "metadata": {}
  }
 ],
 "metadata": {
  "orig_nbformat": 4,
  "language_info": {
   "name": "python",
   "version": "3.8.11",
   "mimetype": "text/x-python",
   "codemirror_mode": {
    "name": "ipython",
    "version": 3
   },
   "pygments_lexer": "ipython3",
   "nbconvert_exporter": "python",
   "file_extension": ".py"
  },
  "kernelspec": {
   "name": "python3",
   "display_name": "Python 3.8.11 64-bit ('data': virtualenv)"
  },
  "interpreter": {
   "hash": "861162915b00b21a65a403eeec2ef5bb182ea02549de31d0f057b969ac81b9fe"
  }
 },
 "nbformat": 4,
 "nbformat_minor": 2
}